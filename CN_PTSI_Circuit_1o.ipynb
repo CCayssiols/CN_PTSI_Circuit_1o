{
 "cells": [
  {
   "cell_type": "markdown",
   "metadata": {},
   "source": [
    "<div style='background-image: url(\"main.png\") ; padding: 0px ; background-size: cover ; border-radius: 5px ; height: 200px ; width: 100%'>\n",
    "    <div style=\"float: right ; margin: 20px ; padding: 20px ; background: rgba(255 , 255 , 255 , 0.9) ; width: 50% ; height: 150px\">\n",
    "        <div style=\"position: relative ; top: 50% ; transform: translatey(-50%)\">\n",
    "            <div style=\"font-size: xx-large ; font-weight: 900 ; color: rgba(0 , 0 , 0 , .8) ; line-height: 100%\">Électrocinétique\n",
    "            </div>\n",
    "            <div style=\"font-size: large ; padding-top: 20px ; color: rgba(0 , 0 , 0 , 0.5)\">Circuits du 1<sup>e</sup> ordre | Régime transitoire et permanent\n",
    "             </div>\n",
    "        </div>\n",
    "    </div>\n",
    "</div>"
   ]
  },
  {
   "cell_type": "code",
   "execution_count": 1,
   "metadata": {},
   "outputs": [],
   "source": [
    "# commande permettant d'insérer les figures matplotlib dans les notebooks\n",
    "%matplotlib inline\n",
    "\n",
    "# import des librairies \n",
    "import numpy as np\n",
    "import matplotlib.pyplot as plt"
   ]
  },
  {
   "cell_type": "markdown",
   "metadata": {},
   "source": [
    "# Mise en œuvre du problème physique\n",
    "On étudie la résolution numérique d'une équation du premier ordre à coefficients constants avec terme source. Un tel système obéit à l'équation différentielle :\n",
    "$$\\tau\\dot{x} + x = f(t)$$\n",
    "\n",
    "&nbsp;\n",
    "La fonction $t\\mapsto f(t)$ est connue, typiquement une fonction constante ou une fonction sinusoïdale. Par ailleurs, à cette équation est associée une condition initiale $x(t=0)= x_0$.\n",
    "\n",
    "&nbsp;\n",
    "On cherchera à tracer l'évolution de la grandeur $x$ au cours du temps."
   ]
  },
  {
   "cell_type": "markdown",
   "metadata": {},
   "source": [
    "## Paramètres physiques du problème étudié\n",
    "Les grandeurs physiques à implémenter sont $\\tau$ notée `tau`, la condition initiale $x_0$, notée `x0`, ainsi que la fonction $t\\mapsto f(t)$ qui sera implémentée sous la forme d'une fonction `source`.\n",
    "\n",
    "&nbsp;\n",
    "La fonction `source`implémentée permet de traiter un forçage constant ou un forçage sinusoïdal. Il suffit pour celà de choisir la grandeur renvoyée, en mettant en commentaire l'autre :\n",
    "* `return forcage`pour un forçage constant ;\n",
    "* `return forcage*np.cos(2*np.pi*temp/periode)`pour un forçage sinusoïdal d'amplitude `forcage`, et de période `periode`."
   ]
  },
  {
   "cell_type": "code",
   "execution_count": 2,
   "metadata": {},
   "outputs": [],
   "source": [
    "# Paramètres physiques\n",
    "tau = 1.0 # Temps caractéristique du système\n",
    "x0 = -2.# Condition initiale x(t=0)\n",
    "forcage = .50 # Amplitude du forçage (constant ou sinusoïdal)\n",
    "periode = 4.0 # Période du forçage sinusoïdal\n",
    "\n",
    "# Fonction de forçage constant ou sinusoïdal\n",
    "def source(temp) :\n",
    "#    return forcage\n",
    "    return forcage*np.cos(2*np.pi*temp/periode)"
   ]
  },
  {
   "cell_type": "markdown",
   "metadata": {},
   "source": [
    "## Paramètres numériques de la simulation \n",
    "La durée de la simulation et les paramètres de discrétisation sont également renseignés :\n",
    "* durée : $T=20~\\text{s}$, noté `L_time` ;\n",
    "* nombre d'intervalles de temps $N$, noté `N_time` ;\n",
    "* pas de temps $\\text{d}t$, noté `dt`."
   ]
  },
  {
   "cell_type": "code",
   "execution_count": 3,
   "metadata": {},
   "outputs": [],
   "source": [
    "L_time = 20               # durée de la simulation\n",
    "N_time = 1000            # discrétisation temporelle\n",
    "\n",
    "dt = L_time/(N_time-1)    # pas de temps"
   ]
  },
  {
   "cell_type": "markdown",
   "metadata": {},
   "source": [
    "# Résolution numérique du problème physique\n",
    "## Schéma numérique pour le calcul du $\\dot{x}$\n",
    "La relation de Taylor écrite à l'instant $t+\\text{d}t$ permet d'établir :\n",
    "$$x(t+\\text{d}t) \\simeq x(t) + \\text{d}t \\dfrac{\\text{d} x}{\\text{d} t}$$\n",
    "\n",
    "En remarquant que l'ensemble des instants $t\\in[0,T]$ est représenté par l'array `t[i]` et qu'ainsi $t_i=i\\times \\Delta t$, soit `t[i]=i*dt`, on peut noter $x(t)=x(i\\Delta t)=x_{i}$, et il vient :\n",
    "$$\\begin{array}{l}\n",
    "x(t)=x(i\\Delta t)=x_i \\\\\n",
    "x(t+\\text{d}t)=x((i+1)\\Delta t)=x_{i+1}\n",
    "\\end{array}$$\n",
    "\n",
    "\n",
    "On peut donc approximer le calcul de la dérivée temporelle par :\n",
    "$$\\boxed{\n",
    "\\dfrac{\\text{d}x_i}{\\text{d}t} \\simeq \\dfrac{x_{i+1} - x_i}{\\Delta t}\n",
    "}$$\n",
    "\n",
    "Cette méthode d'approximation de la dérivée temporelle est appelée *méthode d'Euler*."
   ]
  },
  {
   "cell_type": "markdown",
   "metadata": {},
   "source": [
    "## Implémentation finale\n",
    "Ainsi l'expression discrète de l'équation différentielle initiale peut s'exprimer sous la forme :\n",
    "$$\n",
    "\\frac{x_{i+1}-x_i}{\\Delta t}+\\frac{1}{\\tau}x_i=\\frac{f(t_i)}{\\tau}\n",
    "$$\n",
    "\n",
    "&nbsp;\n",
    "Cette relation permet d'écrire de façon explicite :\n",
    "$$\\boxed{\n",
    "x_{i+1}=x_i\\left(1-\\frac{\\Delta t}{\\tau}\\right) + \\frac{\\Delta t}{\\tau} f(t_i)\n",
    "}$$\n",
    "\n",
    "&nbsp;\n",
    "La connaissance des valeurs $x_i=x(t_i)$ et $f(t_i)$ permet donc de &laquo;prévoir&raquo; la valeur de $x_{i+1}=x(t_{i+1})$ par récurrence, à condition de lui donner une première valeur correspondant à $x(t=0)$."
   ]
  },
  {
   "cell_type": "code",
   "execution_count": 4,
   "metadata": {},
   "outputs": [
    {
     "data": {
      "image/png": "[encoded data removed]",
      "text/plain": [
       "<Figure size 432x288 with 1 Axes>"
      ]
     },
     "metadata": {
      "needs_background": "light"
     },
     "output_type": "display_data"
    },
    {
     "name": "stdout",
     "output_type": "stream",
     "text": [
      "Le temps caractéristique calculé est : 1.000 s\n",
      "Le temps caractéristique théorique est : 1.000 s\n"
     ]
    }
   ],
   "source": [
    "x = [x0]\n",
    "\n",
    "for i in range(N_time-1):\n",
    "    x.append(x[i]*(1-dt/tau)+dt/tau*source(i*dt))\n",
    "    \n",
    "t = np.linspace(0,L_time,N_time)\n",
    "\n",
    "plt.figure()\n",
    "plt.plot(t,x,'o', label='numérique')\n",
    "# décommenter la ligne suivante si forçage constant\n",
    "#plt.plot(t,forcage + (x0-forcage)*np.exp(-t/tau), label='théorique')\n",
    "# décommenter la ligne suivante si forçage sinusoïdal\n",
    "A=np.sqrt(forcage**2/(1+(tau*2*np.pi/periode)**2))\n",
    "phi=-np.arctan(tau*2*np.pi/periode)\n",
    "plt.plot(t,(x0-A*np.cos(phi))*np.exp(-t/tau)+A*np.cos(2*np.pi*t/periode+phi), label='théorique')\n",
    "plt.grid(True)\n",
    "plt.legend()\n",
    "plt.xlabel('Temps (s)')\n",
    "plt.ylabel('x')\n",
    "plt.show()\n",
    "\n",
    "t_th = dt*(forcage-x0)/(x[1]-x[0])\n",
    "print(\"Le temps caractéristique calculé est : %.3f s\" % t_th)\n",
    "print(\"Le temps caractéristique théorique est : %.3f s\" % tau)"
   ]
  },
  {
   "cell_type": "markdown",
   "metadata": {},
   "source": [
    "## Travail à réaliser\n",
    "On pourra effectuer les tests suivants :\n",
    "* tester le rôle joué par la discrétisation dans la précision de la solution obtenue en modifiant la valeur de `N` ;\n",
    "* tester d'autres types de forçage en modifiant la fonction `source`;\n",
    "* tracer l'évolution de l'écart entre solution théorique et numérique au cours du temps ;\n",
    "* ..."
   ]
  },
  {
   "cell_type": "code",
   "execution_count": null,
   "metadata": {},
   "outputs": [],
   "source": []
  }
 ],
 "metadata": {
  "kernelspec": {
   "display_name": "Python 3",
   "language": "python",
   "name": "python3"
  },
  "language_info": {
   "codemirror_mode": {
    "name": "ipython",
    "version": 3
   },
   "file_extension": ".py",
   "mimetype": "text/x-python",
   "name": "python",
   "nbconvert_exporter": "python",
   "pygments_lexer": "ipython3",
   "version": "3.8.8"
  }
 },
 "nbformat": 4,
 "nbformat_minor": 2
}
